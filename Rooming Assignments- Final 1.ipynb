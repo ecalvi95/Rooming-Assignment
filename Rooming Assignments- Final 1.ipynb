{
 "cells": [
  {
   "cell_type": "markdown",
   "id": "d2f54b20",
   "metadata": {},
   "source": [
    "# Room Assignments for the Sunday River Ski Trip!"
   ]
  },
  {
   "cell_type": "markdown",
   "id": "8a6b592e",
   "metadata": {},
   "source": [
    "My friend group has an upcoming ski trip to Sunday River in January! We always argue over who gets to pick the bedrooms, so I thought I would try to automate the process and make it a little less personal. "
   ]
  },
  {
   "cell_type": "markdown",
   "id": "c28a8132",
   "metadata": {},
   "source": [
    "For our trip, we have 5 couples and 1 single person, adding up to 11 people. The AirBnb can sleep 12 people.\n",
    "\n",
    "<b>Here is a breakdown of the sleeping situation:</b>\n",
    "\n",
    "Bedroom 1 = 1 king bed (2 people)\n",
    "\n",
    "Bedroom 2 = 1 double bed (2 people)\n",
    "\n",
    "Bedroom 3 = 1 queen bed and 2 twin beds (1 bunk)(4 people)\n",
    "\n",
    "Bedroom 4 = 4 twin beds (2 bunks) (4 people)\n",
    "\n",
    "<b> Here are the attendants of the trip: </b>\n",
    "\n",
    "Jacob & Erica\n",
    "\n",
    "Caitlyn & Anthony\n",
    "\n",
    "Seth & Dalia\n",
    "\n",
    "Tom & Christine\n",
    "\n",
    "Aaron & Aasta\n",
    "\n",
    "Jen\n"
   ]
  },
  {
   "cell_type": "markdown",
   "id": "1ee640e0",
   "metadata": {},
   "source": [
    "The code below keeps couples together for bedrooms 1 and 2, and then seperates remaining people into a girls only and boys only room. "
   ]
  },
  {
   "cell_type": "markdown",
   "id": "44c42127",
   "metadata": {},
   "source": [
    "# Room Assignment Python Program"
   ]
  },
  {
   "cell_type": "code",
   "execution_count": 1,
   "id": "960b8723",
   "metadata": {},
   "outputs": [
    {
     "name": "stdout",
     "output_type": "stream",
     "text": [
      "Bedroom 1 has a king bed. The people occupying Bedroom 1 will be:\n",
      "['Seth', 'Dalia']\n",
      "Bedroom 2 has a double bed. The people occupying Bedroom 2 will be:\n",
      "['Anthony', 'Caitlyn']\n",
      "Bedroom 3 has 1 queen and 2 twins. It will be the girls room. The people occupying Bedroom 3 will be:\n",
      "Jen\n",
      "Christine\n",
      "Erica\n",
      "Aasta\n",
      "Bedroom 4 has 4 twins. It will be the boys room. The people occupying Bedroom 4 will be:\n",
      "Jacob\n",
      "Aaron\n",
      "Tom\n"
     ]
    }
   ],
   "source": [
    "import random\n",
    "\n",
    "couples2 = [[\"Jacob\", \"Erica\"], [\"Anthony\", \"Caitlyn\"], [\"Tom\", \"Christine\"], [\"Seth\", \"Dalia\"], [\"Aaron\", \"Aasta\"]]\n",
    "rooms = [\"Bedroom 1\", \"Bedroom 2\", \"Bedroom 3\",\"Bedroom 4\"]\n",
    "girls = [\"Erica\", \"Caitlyn\", \"Christine\", \"Dalia\", \"Jen\", \"Aasta\"]\n",
    "boys = [\"Jacob\", \"Anthony\", \"Tom\", \"Seth\", \"Aaron\"]\n",
    "Bedroom_1 = list(range(2))\n",
    "Bedroom_2 = list(range(2))\n",
    "Bedroom_3 = list(range(4)) #determins how many people can fit in a bedroom\n",
    "c = 0\n",
    "Bedroom_4 = list(range(4)) \n",
    "d = 0\n",
    "\n",
    "def assignment():\n",
    "    print(rooms[0] + \" has a king bed. The people occupying \" + rooms[0] + \" will be:\")\n",
    "    def bedroom_1 ():\n",
    "        chosen_couple1 = random.choice(couples2) #chooses random couple\n",
    "        print(chosen_couple1)\n",
    "        chosen_boy = chosen_couple1[0] #breaks couple list into individual boy and girl\n",
    "        chosen_girl = chosen_couple1[1]\n",
    "        if chosen_boy in boys: #if selected boy is in the boy list, remove him so he can't be picked again\n",
    "            boys.remove(chosen_boy)\n",
    "        if chosen_girl in girls: # if selected girl is in the girl list, remove her so she can't be picked again\n",
    "            girls.remove(chosen_girl)\n",
    "        couple_index = couples2.index(chosen_couple1) # determines index of couple chosen\n",
    "        del1 = couples2.pop(couple_index) #removes whole couple from the couple list\n",
    "    bedroom_1()\n",
    "    print(rooms[1] + \" has a double bed. The people occupying \" + rooms[1] + \" will be:\")\n",
    "    def bedroom_2 ():\n",
    "        chosen_couple1 = random.choice(couples2) #chooses random couple\n",
    "        print(chosen_couple1)\n",
    "        chosen_boy = chosen_couple1[0] #breaks couple list into individual boy and girl\n",
    "        chosen_girl = chosen_couple1[1]\n",
    "        if chosen_boy in boys: #if selected boy is in the boy list, remove him so he can't be picked again\n",
    "            boys.remove(chosen_boy)\n",
    "        if chosen_girl in girls: # if selected girl is in the girl list, remove her so she can't be picked again\n",
    "            girls.remove(chosen_girl)\n",
    "        couple_index = couples2.index(chosen_couple1) # determines index of the person in the list\n",
    "        del1 = couples2.pop(couple_index) #removes whole couple from the couple list\n",
    "    bedroom_2()\n",
    "    print(rooms[2] + \" has 1 queen and 2 twins. It will be the girls room. The people occupying \" + rooms[2] + \" will be:\")\n",
    "    def bedroom_3 (c):\n",
    "        while c < len(Bedroom_3): #loop will continue for however large a # of people are allowed per room\n",
    "            c = c+1\n",
    "            chosen_girl = random.choice(girls) #picks a random girl\n",
    "            print(chosen_girl)\n",
    "            girl_index = girls.index(chosen_girl) # determines index of the girl in the list\n",
    "            del1 = girls.pop(girl_index) #removes her from the list so she can't be picked again\n",
    "    bedroom_3(c)\n",
    "    print(rooms[3] + \" has 4 twins. It will be the boys room. The people occupying \" + rooms[3] + \" will be:\")\n",
    "    def bedroom_4 (d):\n",
    "        while d < len(Bedroom_4): #loop will continue for however large a # of people are allowed per room\n",
    "            d = d+1\n",
    "            chosen_boy = random.choice(boys) #picks a random boy\n",
    "            print(chosen_boy)\n",
    "            boy_index = boys.index(chosen_boy) # determines index of the person in the list\n",
    "            del1 = boys.pop(boy_index) #removes boy from the list so he can't be picked again\n",
    "            if len(boys) == 0: #if the list runs out of people, ok to break loop, no error\n",
    "                break\n",
    "    bedroom_4(d)\n",
    "assignment()  "
   ]
  },
  {
   "cell_type": "code",
   "execution_count": null,
   "id": "243df3a3",
   "metadata": {},
   "outputs": [],
   "source": []
  }
 ],
 "metadata": {
  "kernelspec": {
   "display_name": "Python 3",
   "language": "python",
   "name": "python3"
  },
  "language_info": {
   "codemirror_mode": {
    "name": "ipython",
    "version": 3
   },
   "file_extension": ".py",
   "mimetype": "text/x-python",
   "name": "python",
   "nbconvert_exporter": "python",
   "pygments_lexer": "ipython3",
   "version": "3.8.8"
  }
 },
 "nbformat": 4,
 "nbformat_minor": 5
}
